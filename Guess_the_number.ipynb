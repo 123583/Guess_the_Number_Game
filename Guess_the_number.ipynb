{
 "cells": [
  {
   "cell_type": "code",
   "execution_count": 1,
   "id": "d94ab163-906f-46e1-94dc-d1b9e3257341",
   "metadata": {},
   "outputs": [],
   "source": [
    "import emoji\n",
    "import random\n",
    "import os"
   ]
  },
  {
   "cell_type": "code",
   "execution_count": 2,
   "id": "0629be90-9e3b-43f7-931a-d20a0799a3d7",
   "metadata": {},
   "outputs": [],
   "source": [
    "def guess_game():\n",
    "    \n",
    "    # Clears the screen for a better experience\n",
    "    os.system('cls' if os.name == 'nt' else 'clear')\n",
    "    \n",
    "    print(\"=\"*48)\n",
    "    print(emoji.emojize(\"====:light_bulb:NUMBER HUNTER:GUESS THE NUMBER GAME:light_bulb:====\"))\n",
    "    print(\"=\"*48)\n",
    "    print(emoji.emojize(\"\\nHello, player! Welcome to the game! :waving_hand:\"))\n",
    "    print(\"\\nYou have 3 attempts at guessing the correct number\")\n",
    "        # Randomly generates the secret number for the player to guess\n",
    "    secret_number = random.randint(1, 10)\n",
    "    \n",
    "    # Main game loop - player gets 3 attempts to guess the number\n",
    "    for attempt in range(1, 4):\n",
    "    \n",
    "        print(emoji.emojize(\"\\nEnter your guess here :thinking_face:\\n\"))\n",
    "        guess_number = int(input())\n",
    "        if guess_number == secret_number:\n",
    "            print(emoji.emojize(\":party_popper::party_popper::party_popper:Hurray!!!Congratulations!!!:party_popper::party_popper::party_popper:\"))\n",
    "            print(f\"You have guessed the correct number in {attempt} attempts!\")\n",
    "            return\n",
    "        elif guess_number < secret_number:\n",
    "            print(\"Wrong guess. Try guessing a higher number.\\nYou have\", 3 - attempt, \"attempts left\")\n",
    "        else:\n",
    "            print(\"Wrong guess. Try guessing a lower number.\\nYou have\", 3 - attempt, \"attempts left\")\n",
    "    \n",
    "    print(emoji.emojize(\"Sorry, Game Over :frowning_face:, You have exhausted your attempts\"))\n",
    "    print(\"The secret number is:\",secret_number)\n",
    "    print(\"Play Again\")\n"
   ]
  },
  {
   "cell_type": "code",
   "execution_count": 3,
   "id": "9fc470bd-83a2-45d8-bf20-fd2442914edb",
   "metadata": {},
   "outputs": [
    {
     "name": "stdout",
     "output_type": "stream",
     "text": [
      "================================================\n",
      "====💡NUMBER HUNTER:GUESS THE NUMBER GAME💡====\n",
      "================================================\n",
      "\n",
      "Hello, player! Welcome to the game! 👋\n",
      "\n",
      "You have 3 attempts at guessing the correct number\n",
      "\n",
      "Enter your guess here 🤔\n",
      "\n"
     ]
    },
    {
     "name": "stdin",
     "output_type": "stream",
     "text": [
      " 6\n"
     ]
    },
    {
     "name": "stdout",
     "output_type": "stream",
     "text": [
      "Wrong guess. Try guessing a higher number.\n",
      "You have 2 attempts left\n",
      "\n",
      "Enter your guess here 🤔\n",
      "\n"
     ]
    },
    {
     "name": "stdin",
     "output_type": "stream",
     "text": [
      " 8\n"
     ]
    },
    {
     "name": "stdout",
     "output_type": "stream",
     "text": [
      "Wrong guess. Try guessing a lower number.\n",
      "You have 1 attempts left\n",
      "\n",
      "Enter your guess here 🤔\n",
      "\n"
     ]
    },
    {
     "name": "stdin",
     "output_type": "stream",
     "text": [
      " 10\n"
     ]
    },
    {
     "name": "stdout",
     "output_type": "stream",
     "text": [
      "Wrong guess. Try guessing a lower number.\n",
      "You have 0 attempts left\n",
      "Sorry, Game Over ☹️, You have exhausted your attempts\n",
      "The secret number is: 7\n",
      "Play Again\n"
     ]
    }
   ],
   "source": [
    "###### guess_game()"
   ]
  },
  {
   "cell_type": "code",
   "execution_count": null,
   "id": "a9223fd5-fea7-4214-8745-362fd6a5840c",
   "metadata": {},
   "outputs": [],
   "source": []
  }
 ],
 "metadata": {
  "kernelspec": {
   "display_name": "Python 3 (ipykernel)",
   "language": "python",
   "name": "python3"
  },
  "language_info": {
   "codemirror_mode": {
    "name": "ipython",
    "version": 3
   },
   "file_extension": ".py",
   "mimetype": "text/x-python",
   "name": "python",
   "nbconvert_exporter": "python",
   "pygments_lexer": "ipython3",
   "version": "3.12.9"
  }
 },
 "nbformat": 4,
 "nbformat_minor": 5
}
