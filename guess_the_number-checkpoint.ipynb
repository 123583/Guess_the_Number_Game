{
 "cells": [
  {
   "cell_type": "code",
   "execution_count": 4,
   "id": "f7d755a5-373f-4a31-a3c9-2fa235aa100a",
   "metadata": {},
   "outputs": [],
   "source": [
    "import os"
   ]
  },
  {
   "cell_type": "code",
   "execution_count": 5,
   "id": "2ad43f52-d650-40dc-90a3-05c64719acc9",
   "metadata": {},
   "outputs": [],
   "source": [
    "import random"
   ]
  },
  {
   "cell_type": "code",
   "execution_count": 6,
   "id": "f15a5834-4027-4b05-bebd-936db286242c",
   "metadata": {},
   "outputs": [],
   "source": [
    "import emoji"
   ]
  },
  {
   "cell_type": "markdown",
   "id": "bd9bc577-24d6-43bf-86d8-b110c53a3500",
   "metadata": {},
   "source": [
    "## Guess The Number Game"
   ]
  },
  {
   "cell_type": "code",
   "execution_count": 7,
   "id": "c3966ce0-45c3-4207-aab7-67c29cb0446a",
   "metadata": {},
   "outputs": [],
   "source": [
    "def guess_game():\n",
    "    \n",
    "    # Clears the screen for a better experience\n",
    "    os.system('cls' if os.name == 'nt' else 'clear')\n",
    "    \n",
    "    print(\"=\"*48)\n",
    "    print(emoji.emojize(\"====:light_bulb:NUMBER HUNTER:GUESS THE NUMBER GAME:light_bulb:====\"))\n",
    "    print(\"=\"*48)\n",
    "    print(emoji.emojize(\"\\nHello, player! Welcome to the game! :waving_hand:\"))\n",
    "    print(\"\\nYou have 3 attempts at guessing the correct number\")\n",
    "\n",
    "    # Randomly generates the secret number for the player to guess\n",
    "    secret_number = random.randint(1, 10)\n",
    "    \n",
    "    # Main game loop - player gets 3 attempts to guess the number\n",
    "    for attempt in range(1, 4):\n",
    "    \n",
    "        print(emoji.emojize(\"\\nEnter your guess here :thinking_face:\\n\"))\n",
    "        guess_number = int(input())\n",
    "        if guess_number == secret_number:\n",
    "            print(emoji.emojize(\":party_popper::party_popper::party_popper:Hurray!!!Congratulations!!!:party_popper::party_popper::party_popper:\"))\n",
    "            print(f\"You have guessed the correct number in {attempt} attempts!\")\n",
    "            return\n",
    "        elif guess_number < secret_number:\n",
    "            print(\"Wrong guess. Try guessing a higher number.\\nYou have\", 3 - attempt, \"attempts left\")\n",
    "        else:\n",
    "            print(\"Wrong guess. Try guessing a lower number.\\nYou have\", 3 - attempt, \"attempts left\")\n",
    "    \n",
    "    print(emoji.emojize(\"Sorry, Game Over :frowning_face:, You have exhausted your attempts\"))\n",
    "    print(\"The secret number is:\",secret_number)\n",
    "    print(\"Play Again\")\n"
   ]
  },
  {
   "cell_type": "code",
   "execution_count": null,
   "id": "2dd6dda4-9743-411e-b9fa-864408ac9f94",
   "metadata": {},
   "outputs": [
    {
     "name": "stdout",
     "output_type": "stream",
     "text": [
      "================================================\n",
      "====💡NUMBER HUNTER:GUESS THE NUMBER GAME💡====\n",
      "================================================\n",
      "\n",
      "Hello, player! Welcome to the game! 👋\n",
      "\n",
      "You have 3 attempts at guessing the correct number\n",
      "\n",
      "Enter your guess here 🤔\n",
      "\n"
     ]
    }
   ],
   "source": [
    "guess_game()"
   ]
  },
  {
   "cell_type": "code",
   "execution_count": null,
   "id": "89082b60-0464-4ed5-b640-0c36f6f44288",
   "metadata": {},
   "outputs": [],
   "source": []
  }
 ],
 "metadata": {
  "kernelspec": {
   "display_name": "Python 3 (ipykernel)",
   "language": "python",
   "name": "python3"
  },
  "language_info": {
   "codemirror_mode": {
    "name": "ipython",
    "version": 3
   },
   "file_extension": ".py",
   "mimetype": "text/x-python",
   "name": "python",
   "nbconvert_exporter": "python",
   "pygments_lexer": "ipython3",
   "version": "3.12.9"
  }
 },
 "nbformat": 4,
 "nbformat_minor": 5
}
