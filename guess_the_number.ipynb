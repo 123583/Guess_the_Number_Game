{
 "cells": [
  {
   "cell_type": "code",
   "execution_count": 86,
   "id": "f7d755a5-373f-4a31-a3c9-2fa235aa100a",
   "metadata": {},
   "outputs": [],
   "source": [
    "import os"
   ]
  },
  {
   "cell_type": "code",
   "execution_count": 3,
   "id": "2ad43f52-d650-40dc-90a3-05c64719acc9",
   "metadata": {},
   "outputs": [],
   "source": [
    "import random"
   ]
  },
  {
   "cell_type": "code",
   "execution_count": 2,
   "id": "f15a5834-4027-4b05-bebd-936db286242c",
   "metadata": {},
   "outputs": [],
   "source": [
    "import emoji"
   ]
  },
  {
   "cell_type": "markdown",
   "id": "bd9bc577-24d6-43bf-86d8-b110c53a3500",
   "metadata": {},
   "source": [
    "## Guess The Number Game"
   ]
  },
  {
   "cell_type": "code",
   "execution_count": 110,
   "id": "c3966ce0-45c3-4207-aab7-67c29cb0446a",
   "metadata": {},
   "outputs": [],
   "source": [
    "def guess_game():\n",
    "    \n",
    "    # Clears the screen for a better experience\n",
    "    os.system('cls' if os.name == 'nt' else 'clear')\n",
    "    \n",
    "    print(\"=\"*48)\n",
    "    print(emoji.emojize(\"====:light_bulb:NUMBER HUNTER:GUESS THE NUMBER GAME:light_bulb:====\"))\n",
    "    print(\"=\"*48)\n",
    "    print(emoji.emojize(\"\\nHello, player! Welcome to the game! :waving_hand:\"))\n",
    "    print(\"\\nYou have 3 attempts at guessing the correct number\")\n",
    "\n",
    "    # Randomly generates the secret number for the player to guess\n",
    "    secret_number = random.randint(1, 10)\n",
    "    \n",
    "    # Main game loop - player gets 3 attempts to guess the number\n",
    "    for attempt in range(1, 4):\n",
    "    \n",
    "        print(emoji.emojize(\"\\nEnter your guess here :thinking_face:\\n\"))\n",
    "        guess_number = int(input())\n",
    "        if guess_number == secret_number:\n",
    "            print(emoji.emojize(\":party_popper::party_popper::party_popper:Hurray!!!Congratulations!!!:party_popper::party_popper::party_popper:\"))\n",
    "            print(f\"You have guessed the correct number in {attempt} attempts!\")\n",
    "            return\n",
    "        elif guess_number < secret_number:\n",
    "            print(\"Wrong guess. Try guessing a higher number.\\nYou have\", 3 - attempt, \"attempts left\")\n",
    "        else:\n",
    "            print(\"Wrong guess. Try guessing a lower number.\\nYou have\", 3 - attempt, \"attempts left\")\n",
    "    \n",
    "    print(emoji.emojize(\"Sorry, Game Over :frowning_face:, You have exhausted your attempts\"))\n",
    "    print(\"The secret number is:\",secret_number)\n",
    "    print(\"Play Again\")\n"
   ]
  },
  {
   "cell_type": "code",
   "execution_count": 112,
   "id": "5c9358dc-e96e-41f2-bdfe-c27684011b56",
   "metadata": {},
   "outputs": [
    {
     "name": "stdout",
     "output_type": "stream",
     "text": [
      "================================================\n",
      "====💡NUMBER HUNTER:GUESS THE NUMBER GAME💡====\n",
      "================================================\n",
      "\n",
      "Hello, player! Welcome to the game! 👋\n",
      "\n",
      "You have 3 attempts at guessing the correct number\n",
      "\n",
      "Enter your guess here 🤔\n",
      "\n"
     ]
    },
    {
     "ename": "KeyboardInterrupt",
     "evalue": "Interrupted by user",
     "output_type": "error",
     "traceback": [
      "\u001b[31m---------------------------------------------------------------------------\u001b[39m",
      "\u001b[31mKeyboardInterrupt\u001b[39m                         Traceback (most recent call last)",
      "\u001b[36mCell\u001b[39m\u001b[36m \u001b[39m\u001b[32mIn[112]\u001b[39m\u001b[32m, line 1\u001b[39m\n\u001b[32m----> \u001b[39m\u001b[32m1\u001b[39m guess_game()\n",
      "\u001b[36mCell\u001b[39m\u001b[36m \u001b[39m\u001b[32mIn[110]\u001b[39m\u001b[32m, line 19\u001b[39m, in \u001b[36mguess_game\u001b[39m\u001b[34m()\u001b[39m\n\u001b[32m     16\u001b[39m \u001b[38;5;28;01mfor\u001b[39;00m attempt \u001b[38;5;129;01min\u001b[39;00m \u001b[38;5;28mrange\u001b[39m(\u001b[32m1\u001b[39m, \u001b[32m4\u001b[39m):\n\u001b[32m     18\u001b[39m     \u001b[38;5;28mprint\u001b[39m(emoji.emojize(\u001b[33m\"\u001b[39m\u001b[38;5;130;01m\\n\u001b[39;00m\u001b[33mEnter your guess here :thinking_face:\u001b[39m\u001b[38;5;130;01m\\n\u001b[39;00m\u001b[33m\"\u001b[39m))\n\u001b[32m---> \u001b[39m\u001b[32m19\u001b[39m     guess_number = \u001b[38;5;28mint\u001b[39m(\u001b[38;5;28minput\u001b[39m())\n\u001b[32m     20\u001b[39m     \u001b[38;5;28;01mif\u001b[39;00m guess_number == secret_number:\n\u001b[32m     21\u001b[39m         \u001b[38;5;28mprint\u001b[39m(emoji.emojize(\u001b[33m\"\u001b[39m\u001b[33m:party_popper::party_popper::party_popper:Hurray!!!Congratulations!!!:party_popper::party_popper::party_popper:\u001b[39m\u001b[33m\"\u001b[39m))\n",
      "\u001b[36mFile \u001b[39m\u001b[32m~\\.conda\\envs\\SQL_Packages\\Lib\\site-packages\\ipykernel\\kernelbase.py:1282\u001b[39m, in \u001b[36mKernel.raw_input\u001b[39m\u001b[34m(self, prompt)\u001b[39m\n\u001b[32m   1280\u001b[39m     msg = \u001b[33m\"\u001b[39m\u001b[33mraw_input was called, but this frontend does not support input requests.\u001b[39m\u001b[33m\"\u001b[39m\n\u001b[32m   1281\u001b[39m     \u001b[38;5;28;01mraise\u001b[39;00m StdinNotImplementedError(msg)\n\u001b[32m-> \u001b[39m\u001b[32m1282\u001b[39m \u001b[38;5;28;01mreturn\u001b[39;00m \u001b[38;5;28mself\u001b[39m._input_request(\n\u001b[32m   1283\u001b[39m     \u001b[38;5;28mstr\u001b[39m(prompt),\n\u001b[32m   1284\u001b[39m     \u001b[38;5;28mself\u001b[39m._parent_ident[\u001b[33m\"\u001b[39m\u001b[33mshell\u001b[39m\u001b[33m\"\u001b[39m],\n\u001b[32m   1285\u001b[39m     \u001b[38;5;28mself\u001b[39m.get_parent(\u001b[33m\"\u001b[39m\u001b[33mshell\u001b[39m\u001b[33m\"\u001b[39m),\n\u001b[32m   1286\u001b[39m     password=\u001b[38;5;28;01mFalse\u001b[39;00m,\n\u001b[32m   1287\u001b[39m )\n",
      "\u001b[36mFile \u001b[39m\u001b[32m~\\.conda\\envs\\SQL_Packages\\Lib\\site-packages\\ipykernel\\kernelbase.py:1325\u001b[39m, in \u001b[36mKernel._input_request\u001b[39m\u001b[34m(self, prompt, ident, parent, password)\u001b[39m\n\u001b[32m   1322\u001b[39m \u001b[38;5;28;01mexcept\u001b[39;00m \u001b[38;5;167;01mKeyboardInterrupt\u001b[39;00m:\n\u001b[32m   1323\u001b[39m     \u001b[38;5;66;03m# re-raise KeyboardInterrupt, to truncate traceback\u001b[39;00m\n\u001b[32m   1324\u001b[39m     msg = \u001b[33m\"\u001b[39m\u001b[33mInterrupted by user\u001b[39m\u001b[33m\"\u001b[39m\n\u001b[32m-> \u001b[39m\u001b[32m1325\u001b[39m     \u001b[38;5;28;01mraise\u001b[39;00m \u001b[38;5;167;01mKeyboardInterrupt\u001b[39;00m(msg) \u001b[38;5;28;01mfrom\u001b[39;00m\u001b[38;5;250m \u001b[39m\u001b[38;5;28;01mNone\u001b[39;00m\n\u001b[32m   1326\u001b[39m \u001b[38;5;28;01mexcept\u001b[39;00m \u001b[38;5;167;01mException\u001b[39;00m:\n\u001b[32m   1327\u001b[39m     \u001b[38;5;28mself\u001b[39m.log.warning(\u001b[33m\"\u001b[39m\u001b[33mInvalid Message:\u001b[39m\u001b[33m\"\u001b[39m, exc_info=\u001b[38;5;28;01mTrue\u001b[39;00m)\n",
      "\u001b[31mKeyboardInterrupt\u001b[39m: Interrupted by user"
     ]
    }
   ],
   "source": [
    "guess_game()"
   ]
  },
  {
   "cell_type": "code",
   "execution_count": null,
   "id": "2dd6dda4-9743-411e-b9fa-864408ac9f94",
   "metadata": {},
   "outputs": [],
   "source": []
  }
 ],
 "metadata": {
  "kernelspec": {
   "display_name": "Python 3 (ipykernel)",
   "language": "python",
   "name": "python3"
  },
  "language_info": {
   "codemirror_mode": {
    "name": "ipython",
    "version": 3
   },
   "file_extension": ".py",
   "mimetype": "text/x-python",
   "name": "python",
   "nbconvert_exporter": "python",
   "pygments_lexer": "ipython3",
   "version": "3.12.9"
  }
 },
 "nbformat": 4,
 "nbformat_minor": 5
}
